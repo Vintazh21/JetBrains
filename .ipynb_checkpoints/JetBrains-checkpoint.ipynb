{
 "cells": [
  {
   "cell_type": "markdown",
   "id": "041cdad8",
   "metadata": {
    "slideshow": {
     "slide_type": "notes"
    }
   },
   "source": [
    "## Components Installation"
   ]
  },
  {
   "cell_type": "code",
   "execution_count": null,
   "id": "abce025d",
   "metadata": {
    "slideshow": {
     "slide_type": "-"
    }
   },
   "outputs": [],
   "source": [
    "!pip install pyodbc\n",
    "!pip install SQLAlchemy\n",
    "!pip install pymssql\n",
    "!pip install pandas\n"
   ]
  },
  {
   "cell_type": "markdown",
   "id": "7abea917",
   "metadata": {},
   "source": [
    "## Libraries Importing"
   ]
  },
  {
   "cell_type": "code",
   "execution_count": 1,
   "id": "f29dce7e",
   "metadata": {},
   "outputs": [],
   "source": [
    "## Libraries Importing\n",
    "import pyodbc\n",
    "import sqlalchemy\n",
    "import pymssql\n",
    "import pandas as pd\n",
    "\n",
    "\n",
    "## garbage collection\n",
    "import gc"
   ]
  },
  {
   "cell_type": "markdown",
   "id": "13b007d4",
   "metadata": {},
   "source": [
    "## Credentials and Connections Settings"
   ]
  },
  {
   "cell_type": "code",
   "execution_count": 2,
   "id": "ee6d4473",
   "metadata": {},
   "outputs": [],
   "source": [
    "###database username. Use config file or env vars\n",
    "uid = \"jaroslav_kobozev\" \n",
    "###database password. Use config file or env vars\n",
    "pwd = \"z&)x5#^Du8z-D}dT55!fZyf81X^\" \n",
    "driver = \"{ODBC Driver 17 for SQL Server}\"\n",
    "server = \"testdb.bi.aws.intellij.net\" # or your computer name\n",
    "database = \"dea\"\n",
    "\n",
    "\n",
    "conn = pyodbc.connect('DRIVER=' + driver + ';SERVER=' + server + ';DATABASE=' + database + ';UID=' + uid + ';PWD=' + pwd)"
   ]
  },
  {
   "cell_type": "markdown",
   "id": "bd5e7782",
   "metadata": {},
   "source": [
    "## SQL Server Connection Test\n"
   ]
  },
  {
   "cell_type": "markdown",
   "id": "3278aeb4",
   "metadata": {},
   "source": [
    "### \"dea\" DB exploring"
   ]
  },
  {
   "cell_type": "code",
   "execution_count": null,
   "id": "812da683",
   "metadata": {},
   "outputs": [],
   "source": [
    "##sql_test = \"select schema_name(t.schema_id) as schema_name, t.name as table_name, t.create_date from sys.tables t\"\n",
    "sql_test_ = \"select schema_name(t.schema_id) as schema_name,  t.name as table_name, t.create_date from sys.tables t\""
   ]
  },
  {
   "cell_type": "code",
   "execution_count": null,
   "id": "50e14973",
   "metadata": {},
   "outputs": [],
   "source": [
    "test_ = pd.read_sql_query(sql_test, conn)\n",
    "##test_.head()\n",
    "##print(test_)\n",
    "pd.reset_option('display.max_rows')\n",
    "test_"
   ]
  },
  {
   "cell_type": "markdown",
   "id": "e40e99e4",
   "metadata": {},
   "source": [
    "### \"dea\" DB tables info"
   ]
  },
  {
   "cell_type": "code",
   "execution_count": null,
   "id": "fbae531b",
   "metadata": {},
   "outputs": [],
   "source": [
    "test_.info()"
   ]
  },
  {
   "cell_type": "markdown",
   "id": "8a174f7b",
   "metadata": {},
   "source": [
    "### \"Netsuite\" Schema TRANSACTIONS\" table information"
   ]
  },
  {
   "cell_type": "markdown",
   "id": "0b0e19e8",
   "metadata": {},
   "source": [
    "#### Shape"
   ]
  },
  {
   "cell_type": "code",
   "execution_count": 3,
   "id": "bcb1c6cb",
   "metadata": {},
   "outputs": [
    {
     "name": "stderr",
     "output_type": "stream",
     "text": [
      "C:\\Users\\User\\AppData\\Local\\Temp\\ipykernel_10356\\4192976430.py:1: UserWarning: pandas only supports SQLAlchemy connectable (engine/connection) or database string URI or sqlite3 DBAPI2 connection. Other DBAPI2 objects are not tested. Please consider using SQLAlchemy.\n",
      "  transactions = pd.read_sql_query(\n"
     ]
    },
    {
     "data": {
      "text/plain": [
       "(1112409, 11)"
      ]
     },
     "execution_count": 3,
     "metadata": {},
     "output_type": "execute_result"
    }
   ],
   "source": [
    "transactions = pd.read_sql_query(\n",
    "    \"SELECT * FROM netsuite.transactions\",\n",
    "    conn\n",
    ")\n",
    "\n",
    "pd.reset_option('display.min_rows')\n",
    "\n",
    "\n",
    "##test_.head()\n",
    "##print(test_)\n",
    "##pd.reset_option('display.max_rows')\n",
    "transactions.shape"
   ]
  },
  {
   "cell_type": "markdown",
   "id": "67721232",
   "metadata": {},
   "source": [
    "#### Preview \".head()\""
   ]
  },
  {
   "cell_type": "code",
   "execution_count": null,
   "id": "ed28c8a9",
   "metadata": {},
   "outputs": [],
   "source": [
    "transactions.head()"
   ]
  },
  {
   "cell_type": "markdown",
   "id": "632dc9b9",
   "metadata": {},
   "source": [
    "#### Info"
   ]
  },
  {
   "cell_type": "code",
   "execution_count": null,
   "id": "3fec7289",
   "metadata": {},
   "outputs": [],
   "source": [
    "transactions.info()"
   ]
  },
  {
   "cell_type": "raw",
   "id": "1f80f5dc",
   "metadata": {},
   "source": [
    "__Table \"TRANSACTIONS\" info.__\n",
    "<class 'pandas.core.frame.DataFrame'>\n",
    "__RangeIndex: 1112409 entries, 0 to 1112408__\n",
    "Data columns (total 11 columns):\n",
    "    Column              Non-Null Count    Dtype  \n",
    "---  ------              --------------    -----  \n",
    " 0   TRANSACTION_ID      1112409 non-null  int64  \n",
    " 1   TRANID              1112409 non-null  object \n",
    " 2   TRANSACTION_TYPE    1112409 non-null  object \n",
    " 3   TRANDATE            1112409 non-null  object \n",
    " 4   EXCHANGE_RATE       1112409 non-null  float64\n",
    " 5   CURRENCY_ID         1112409 non-null  int64  \n",
    " 6   ORDER_REF           1112409 non-null  object \n",
    " 7   MERCHANT_ACCOUNT    739367 non-null   object \n",
    " 8   BATCH_NUMBER        606609 non-null   float64\n",
    " 9   IS_NON_POSTING      1112409 non-null  object \n",
    " 10  DATE_LAST_MODIFIED  1112409 non-null  object \n",
    "dtypes: float64(2), int64(2), object(7)\n",
    "memory usage: 93.4+ MB\n",
    "\n",
    "\n",
    "Tables columns \"Merchant_Account\" and \"Batch_Number\" contain _null_ values.\n",
    "\n"
   ]
  },
  {
   "cell_type": "markdown",
   "id": "772432b0",
   "metadata": {},
   "source": [
    "#### Statistics"
   ]
  },
  {
   "cell_type": "code",
   "execution_count": null,
   "id": "3b6f72c9",
   "metadata": {},
   "outputs": [],
   "source": [
    "transactions.describe()"
   ]
  },
  {
   "cell_type": "code",
   "execution_count": null,
   "id": "dba41d28",
   "metadata": {},
   "outputs": [],
   "source": [
    "SQL_T_OrdRef = transactions[\"ORDER_REF\"]\n",
    "SQL_T_Subset = transactions[[\"TRANSACTION_ID\", \"ORDER_REF\"]]\n",
    "SQL_T_Subset.describe(include = [\"int\", \"object\"])\n"
   ]
  },
  {
   "cell_type": "code",
   "execution_count": null,
   "id": "543935cb",
   "metadata": {},
   "outputs": [],
   "source": []
  },
  {
   "cell_type": "code",
   "execution_count": null,
   "id": "a06292af",
   "metadata": {},
   "outputs": [],
   "source": []
  },
  {
   "cell_type": "code",
   "execution_count": null,
   "id": "69c3aed8",
   "metadata": {},
   "outputs": [],
   "source": []
  },
  {
   "cell_type": "code",
   "execution_count": null,
   "id": "25a7a039",
   "metadata": {},
   "outputs": [],
   "source": []
  },
  {
   "cell_type": "markdown",
   "id": "6c000f92",
   "metadata": {},
   "source": [
    "***"
   ]
  },
  {
   "cell_type": "markdown",
   "id": "1877a469",
   "metadata": {},
   "source": [
    "### \"Netsuite\" Schema \"Accounts\" table information"
   ]
  },
  {
   "cell_type": "markdown",
   "id": "cfdbc01f",
   "metadata": {},
   "source": [
    "#### Shape"
   ]
  },
  {
   "cell_type": "code",
   "execution_count": null,
   "id": "82e42eb6",
   "metadata": {},
   "outputs": [],
   "source": [
    "accounts = pd.read_sql_query(\n",
    "    \"SELECT * FROM netsuite.accounts\",\n",
    "    conn\n",
    ")\n",
    "\n",
    "#pd.reset_option('display.min_rows')\n",
    "\n",
    "accounts.shape"
   ]
  },
  {
   "cell_type": "markdown",
   "id": "aebf9737",
   "metadata": {},
   "source": [
    "#### Preview \".head()\""
   ]
  },
  {
   "cell_type": "code",
   "execution_count": null,
   "id": "30e26efa",
   "metadata": {},
   "outputs": [],
   "source": [
    "accounts.head()"
   ]
  },
  {
   "cell_type": "markdown",
   "id": "e5c0cc2a",
   "metadata": {},
   "source": [
    "***"
   ]
  },
  {
   "cell_type": "markdown",
   "id": "ee58d3d4",
   "metadata": {},
   "source": [
    "### \"Netsuite\" Schema \"Entity\" table information"
   ]
  },
  {
   "cell_type": "markdown",
   "id": "0a258fe1",
   "metadata": {},
   "source": [
    "#### Shape"
   ]
  },
  {
   "cell_type": "code",
   "execution_count": null,
   "id": "50657112",
   "metadata": {},
   "outputs": [],
   "source": [
    "entity = pd.read_sql_query(\n",
    "    \"SELECT * FROM netsuite.entity\",\n",
    "    conn\n",
    ")\n",
    "\n",
    "entity.shape"
   ]
  },
  {
   "cell_type": "markdown",
   "id": "62b5c4c0",
   "metadata": {},
   "source": [
    "#### Preview \".head()\""
   ]
  },
  {
   "cell_type": "code",
   "execution_count": null,
   "id": "26e832d5",
   "metadata": {
    "scrolled": true
   },
   "outputs": [],
   "source": [
    "entity.head()"
   ]
  },
  {
   "cell_type": "raw",
   "id": "5596f874",
   "metadata": {},
   "source": [
    "ENTITY_ID\tNAME\t ENTITY_TYPE\tBILL_COUNTRY\tDATE_LAST_MODIFIED\n",
    "1\t        flow\t Personal\t              GB\t        2019-03-18\n",
    "2\t        well\t Commercial\t              US\t        2018-09-25\n",
    "3\t        right\t Reseller\t              US\t        2018-09-05\n",
    "4\t        local\t Personal\t              US\t        2019-06-09\n",
    "5\t        movement Commercial\t              US\t        2018-06-23"
   ]
  },
  {
   "cell_type": "markdown",
   "id": "0935e927",
   "metadata": {},
   "source": [
    "***"
   ]
  },
  {
   "cell_type": "markdown",
   "id": "d27d10fd",
   "metadata": {},
   "source": [
    "### \"Netsuite\" Schema \"Subsidiaries\" table information"
   ]
  },
  {
   "cell_type": "markdown",
   "id": "a9a985c1",
   "metadata": {},
   "source": [
    "#### Shape"
   ]
  },
  {
   "cell_type": "code",
   "execution_count": null,
   "id": "9a92fd76",
   "metadata": {},
   "outputs": [],
   "source": [
    "subs = pd.read_sql_query(\n",
    "    \"SELECT * FROM netsuite.subsidiaries\",\n",
    "    conn\n",
    ")\n",
    "\n",
    "subs.shape"
   ]
  },
  {
   "cell_type": "markdown",
   "id": "75f19f83",
   "metadata": {},
   "source": [
    "#### Preview \".head()\""
   ]
  },
  {
   "cell_type": "code",
   "execution_count": null,
   "id": "ab34081c",
   "metadata": {},
   "outputs": [],
   "source": [
    "subs.head()"
   ]
  },
  {
   "cell_type": "markdown",
   "id": "fa29dcad",
   "metadata": {},
   "source": [
    "***"
   ]
  },
  {
   "cell_type": "markdown",
   "id": "4669a383",
   "metadata": {},
   "source": [
    "### \"Netsuite\" Schema \"Transaction_Lines\" Table information"
   ]
  },
  {
   "cell_type": "markdown",
   "id": "3fa7b86d",
   "metadata": {},
   "source": [
    "#### Shape"
   ]
  },
  {
   "cell_type": "code",
   "execution_count": 4,
   "id": "4443cd51",
   "metadata": {},
   "outputs": [
    {
     "name": "stderr",
     "output_type": "stream",
     "text": [
      "C:\\Users\\User\\AppData\\Local\\Temp\\ipykernel_10356\\3695239593.py:1: UserWarning: pandas only supports SQLAlchemy connectable (engine/connection) or database string URI or sqlite3 DBAPI2 connection. Other DBAPI2 objects are not tested. Please consider using SQLAlchemy.\n",
      "  tl = pd.read_sql_query(\n"
     ]
    },
    {
     "data": {
      "text/plain": [
       "(2224818, 8)"
      ]
     },
     "execution_count": 4,
     "metadata": {},
     "output_type": "execute_result"
    }
   ],
   "source": [
    "tl = pd.read_sql_query(\n",
    "        \"SELECT * FROM netsuite.transaction_lines\",\n",
    "        conn\n",
    ")\n",
    "\n",
    "tl.shape"
   ]
  },
  {
   "cell_type": "markdown",
   "id": "6b093c91",
   "metadata": {},
   "source": [
    "#### Preview \".head()\""
   ]
  },
  {
   "cell_type": "code",
   "execution_count": null,
   "id": "5e035f35",
   "metadata": {},
   "outputs": [],
   "source": [
    "tl.head()"
   ]
  },
  {
   "cell_type": "code",
   "execution_count": null,
   "id": "a2c76be2",
   "metadata": {},
   "outputs": [],
   "source": [
    "SQL_TL_Amount = tl[[\"ACCOUNT_ID\", \"AMOUNT\", \"AMOUNT_FOREIGN\" ]]"
   ]
  },
  {
   "cell_type": "code",
   "execution_count": null,
   "id": "641876a2",
   "metadata": {},
   "outputs": [],
   "source": [
    "SQL_TL_Amount.sum()"
   ]
  },
  {
   "cell_type": "code",
   "execution_count": null,
   "id": "1c5fbf61",
   "metadata": {
    "scrolled": true
   },
   "outputs": [],
   "source": [
    "SQL_TL_Amount.groupby(\"ACCOUNT_ID\").sum()"
   ]
  },
  {
   "cell_type": "markdown",
   "id": "ca071e2e",
   "metadata": {},
   "source": [
    "#### Summary"
   ]
  },
  {
   "cell_type": "code",
   "execution_count": null,
   "id": "8c734c0f",
   "metadata": {},
   "outputs": [],
   "source": [
    "SQL_TL_Amount.loc[SQL_TL_Amount[\"ACCOUNT_ID\"] != 128, \"AMOUNT\"].sum()"
   ]
  },
  {
   "cell_type": "markdown",
   "id": "3dbbcb28",
   "metadata": {},
   "source": [
    "Sum of \"AMOUNT\" column: 115 209 963.46999995"
   ]
  },
  {
   "cell_type": "code",
   "execution_count": null,
   "id": "d2f19dbf",
   "metadata": {},
   "outputs": [],
   "source": [
    "SQL_TL_Amount.loc[SQL_TL_Amount[\"ACCOUNT_ID\"] != 128, \"AMOUNT_FOREIGN\"].sum()"
   ]
  },
  {
   "cell_type": "markdown",
   "id": "f347f588",
   "metadata": {},
   "source": [
    "Sum of \"AMOUNT_FOREIGN\" column: 124 768 149.0"
   ]
  },
  {
   "cell_type": "raw",
   "id": "634bfe01",
   "metadata": {},
   "source": [
    "Total Sum of \"AMOUNT_FOREIGN\" equals to 0.0.\n",
    "\"ACCOUNT_ID\" with 128 code means \"Deferred Revenue\" and its the only Account Name with the negative total sum of \"AMOUNT_FOREIGN\" column. This code must be exclude from Analysis."
   ]
  },
  {
   "cell_type": "code",
   "execution_count": null,
   "id": "87bfbd55",
   "metadata": {},
   "outputs": [],
   "source": []
  },
  {
   "cell_type": "code",
   "execution_count": null,
   "id": "ba322df8",
   "metadata": {},
   "outputs": [],
   "source": []
  },
  {
   "cell_type": "code",
   "execution_count": null,
   "id": "0b806de6",
   "metadata": {},
   "outputs": [],
   "source": []
  },
  {
   "cell_type": "markdown",
   "id": "870f823b",
   "metadata": {},
   "source": [
    "***"
   ]
  },
  {
   "cell_type": "markdown",
   "id": "8bdc006e",
   "metadata": {},
   "source": [
    "## GitHub Settlement"
   ]
  },
  {
   "cell_type": "markdown",
   "id": "f68cc42f",
   "metadata": {},
   "source": [
    "### first file import testing"
   ]
  },
  {
   "cell_type": "code",
   "execution_count": null,
   "id": "76a332d6",
   "metadata": {},
   "outputs": [],
   "source": [
    "## GitHub \"*_138.csv\" file import\n",
    "\n",
    "first_file = pd.read_csv(\"https://raw.githubusercontent.com/antontucek/jb-dea-test-assignment/main/settlement/JetBrainsAmericasUSD_settlement_detail_report_batch_138.csv\", sep=\";\")"
   ]
  },
  {
   "cell_type": "markdown",
   "id": "dac9e094",
   "metadata": {},
   "source": [
    "#### Shape"
   ]
  },
  {
   "cell_type": "code",
   "execution_count": null,
   "id": "e38208f7",
   "metadata": {},
   "outputs": [],
   "source": [
    "## GitHub \"*_138.csv\" file Shape\n",
    "first_file.shape"
   ]
  },
  {
   "cell_type": "markdown",
   "id": "826774ad",
   "metadata": {},
   "source": [
    "#### Preview \".head()\""
   ]
  },
  {
   "cell_type": "code",
   "execution_count": null,
   "id": "376dfd12",
   "metadata": {},
   "outputs": [],
   "source": [
    "## GitHub \"*_138.csv\" file Preview\n",
    "\n",
    "first_file.head()"
   ]
  },
  {
   "cell_type": "markdown",
   "id": "cbc9c19a",
   "metadata": {},
   "source": [
    "#### Info"
   ]
  },
  {
   "cell_type": "code",
   "execution_count": null,
   "id": "36a8ae20",
   "metadata": {
    "scrolled": true
   },
   "outputs": [],
   "source": [
    "first_file.info()"
   ]
  },
  {
   "cell_type": "markdown",
   "id": "dc2cab25",
   "metadata": {},
   "source": [
    "#### Statistics"
   ]
  },
  {
   "cell_type": "code",
   "execution_count": null,
   "id": "2ecc43d9",
   "metadata": {
    "scrolled": false
   },
   "outputs": [],
   "source": [
    "first_file.describe()"
   ]
  },
  {
   "cell_type": "markdown",
   "id": "78b9f0f8",
   "metadata": {},
   "source": [
    "***"
   ]
  },
  {
   "cell_type": "markdown",
   "id": "995c2350",
   "metadata": {},
   "source": [
    "### Import all .csv files from GitHub"
   ]
  },
  {
   "cell_type": "markdown",
   "id": "d1d08f8c",
   "metadata": {},
   "source": [
    "#### Import and Concatenating multiple CSV files in a single pandas DataFrame"
   ]
  },
  {
   "cell_type": "code",
   "execution_count": 5,
   "id": "3104b544",
   "metadata": {},
   "outputs": [],
   "source": [
    "data_files = [\n",
    "            \"https://raw.githubusercontent.com/antontucek/jb-dea-test-assignment/main/settlement/JetBrainsAmericasUSD_settlement_detail_report_batch_138.csv\",\n",
    "            \"https://raw.githubusercontent.com/antontucek/jb-dea-test-assignment/main/settlement/JetBrainsAmericasUSD_settlement_detail_report_batch_139.csv\",\n",
    "            \"https://raw.githubusercontent.com/antontucek/jb-dea-test-assignment/main/settlement/JetBrainsAmericasUSD_settlement_detail_report_batch_140.csv\",\n",
    "            \"https://raw.githubusercontent.com/antontucek/jb-dea-test-assignment/main/settlement/JetBrainsAmericasUSD_settlement_detail_report_batch_141.csv\",\n",
    "            \"https://raw.githubusercontent.com/antontucek/jb-dea-test-assignment/main/settlement/JetBrainsAmericasUSD_settlement_detail_report_batch_142.csv\",\n",
    "            \"https://raw.githubusercontent.com/antontucek/jb-dea-test-assignment/main/settlement/JetBrainsEUR_settlement_detail_report_batch_138.csv\",\n",
    "            \"https://raw.githubusercontent.com/antontucek/jb-dea-test-assignment/main/settlement/JetBrainsEUR_settlement_detail_report_batch_139.csv\",\n",
    "            \"https://raw.githubusercontent.com/antontucek/jb-dea-test-assignment/main/settlement/JetBrainsEUR_settlement_detail_report_batch_140.csv\",\n",
    "            \"https://raw.githubusercontent.com/antontucek/jb-dea-test-assignment/main/settlement/JetBrainsEUR_settlement_detail_report_batch_141.csv\",\n",
    "            \"https://raw.githubusercontent.com/antontucek/jb-dea-test-assignment/main/settlement/JetBrainsEUR_settlement_detail_report_batch_142.csv\",\n",
    "            \"https://raw.githubusercontent.com/antontucek/jb-dea-test-assignment/main/settlement/JetBrainsGBP_settlement_detail_report_batch_138.csv\",\n",
    "            \"https://raw.githubusercontent.com/antontucek/jb-dea-test-assignment/main/settlement/JetBrainsGBP_settlement_detail_report_batch_139.csv\",\n",
    "            \"https://raw.githubusercontent.com/antontucek/jb-dea-test-assignment/main/settlement/JetBrainsGBP_settlement_detail_report_batch_140.csv\",\n",
    "            \"https://raw.githubusercontent.com/antontucek/jb-dea-test-assignment/main/settlement/JetBrainsGBP_settlement_detail_report_batch_141.csv\",\n",
    "            \"https://raw.githubusercontent.com/antontucek/jb-dea-test-assignment/main/settlement/JetBrainsGBP_settlement_detail_report_batch_142.csv\",\n",
    "            \"https://raw.githubusercontent.com/antontucek/jb-dea-test-assignment/main/settlement/JetBrainsUSD_settlement_detail_report_batch_138.csv\",\n",
    "            \"https://raw.githubusercontent.com/antontucek/jb-dea-test-assignment/main/settlement/JetBrainsUSD_settlement_detail_report_batch_139.csv\",\n",
    "            \"https://raw.githubusercontent.com/antontucek/jb-dea-test-assignment/main/settlement/JetBrainsUSD_settlement_detail_report_batch_140.csv\",\n",
    "            \"https://raw.githubusercontent.com/antontucek/jb-dea-test-assignment/main/settlement/JetBrainsUSD_settlement_detail_report_batch_141.csv\",\n",
    "            \"https://raw.githubusercontent.com/antontucek/jb-dea-test-assignment/main/settlement/JetBrainsUSD_settlement_detail_report_batch_142.csv\"\n",
    "\n",
    "]\n",
    "\n",
    "GH = pd.concat(\n",
    "                        pd.read_csv(filename, sep=\";\", index_col=None, header=0) for filename in data_files\n",
    "            )"
   ]
  },
  {
   "cell_type": "markdown",
   "id": "b0f3ab96",
   "metadata": {},
   "source": [
    "#### Shape"
   ]
  },
  {
   "cell_type": "code",
   "execution_count": null,
   "id": "8d87a40d",
   "metadata": {},
   "outputs": [],
   "source": [
    "GH.shape"
   ]
  },
  {
   "cell_type": "markdown",
   "id": "d01058d8",
   "metadata": {},
   "source": [
    "#### Preview \".head()\""
   ]
  },
  {
   "cell_type": "code",
   "execution_count": null,
   "id": "48e1e186",
   "metadata": {},
   "outputs": [],
   "source": [
    "GH.head()"
   ]
  },
  {
   "cell_type": "markdown",
   "id": "271aa9f4",
   "metadata": {},
   "source": [
    "#### Info"
   ]
  },
  {
   "cell_type": "code",
   "execution_count": null,
   "id": "8320d5a1",
   "metadata": {},
   "outputs": [],
   "source": [
    "GH.info()"
   ]
  },
  {
   "cell_type": "markdown",
   "id": "315932d5",
   "metadata": {},
   "source": [
    "#### Statistics"
   ]
  },
  {
   "cell_type": "code",
   "execution_count": null,
   "id": "898c95e3",
   "metadata": {
    "scrolled": true
   },
   "outputs": [],
   "source": [
    "GH.describe(include = [\"object\", \"int\"])"
   ]
  },
  {
   "cell_type": "markdown",
   "id": "ae153145",
   "metadata": {},
   "source": [
    "***\n",
    "\"GROSS\" column combines amount of 3 different currencies.\n",
    "***"
   ]
  },
  {
   "cell_type": "code",
   "execution_count": null,
   "id": "3bf1bc34",
   "metadata": {},
   "outputs": [],
   "source": [
    "Batch_Number_df = GH[[\"BATCH_NUMBER\"]].groupby(\"BATCH_NUMBER\", as_index=False).first()\n",
    "\n",
    "Batch_Number_df"
   ]
  },
  {
   "cell_type": "code",
   "execution_count": null,
   "id": "98731195",
   "metadata": {},
   "outputs": [],
   "source": [
    "subset_test = GH[[\"MERCHANT_ACCOUNT\", \"BATCH_NUMBER\", \"GROSS\"]]\n",
    "\n",
    "subset_test"
   ]
  },
  {
   "cell_type": "code",
   "execution_count": null,
   "id": "9ffeb3fb",
   "metadata": {},
   "outputs": [],
   "source": [
    "subset_test.groupby([\"MERCHANT_ACCOUNT\", \"BATCH_NUMBER\"])[\"GROSS\"].sum()"
   ]
  },
  {
   "cell_type": "code",
   "execution_count": null,
   "id": "c7b7a8ac",
   "metadata": {},
   "outputs": [],
   "source": [
    "GH_Amount = GH[\"GROSS\"]\n",
    "GH_Amount.sum()"
   ]
  },
  {
   "cell_type": "markdown",
   "id": "2b54bd00",
   "metadata": {},
   "source": [
    "#### Summary"
   ]
  },
  {
   "cell_type": "code",
   "execution_count": null,
   "id": "718878d4",
   "metadata": {},
   "outputs": [],
   "source": [
    "SQL_TL_Amount.sum() == GH_Amount.sum()"
   ]
  },
  {
   "cell_type": "markdown",
   "id": "1d29b519",
   "metadata": {},
   "source": [
    "Sum of \"AMOUNT FOREIGN\" column is equal to Sum of \"GROSS\" column."
   ]
  },
  {
   "cell_type": "markdown",
   "id": "55945ca9",
   "metadata": {},
   "source": [
    "***\n",
    "***\n",
    "***"
   ]
  },
  {
   "cell_type": "markdown",
   "id": "d8cf94dd",
   "metadata": {},
   "source": [
    "## Data Combining"
   ]
  },
  {
   "cell_type": "markdown",
   "id": "4be294e1",
   "metadata": {},
   "source": [
    "### Table Bridge creation"
   ]
  },
  {
   "cell_type": "code",
   "execution_count": 6,
   "id": "c7b8532e",
   "metadata": {},
   "outputs": [
    {
     "data": {
      "text/html": [
       "<div>\n",
       "<style scoped>\n",
       "    .dataframe tbody tr th:only-of-type {\n",
       "        vertical-align: middle;\n",
       "    }\n",
       "\n",
       "    .dataframe tbody tr th {\n",
       "        vertical-align: top;\n",
       "    }\n",
       "\n",
       "    .dataframe thead th {\n",
       "        text-align: right;\n",
       "    }\n",
       "</style>\n",
       "<table border=\"1\" class=\"dataframe\">\n",
       "  <thead>\n",
       "    <tr style=\"text-align: right;\">\n",
       "      <th></th>\n",
       "      <th>ORDER_REF</th>\n",
       "      <th>MERCHANT_ACCOUNT</th>\n",
       "      <th>BATCH_NUMBER</th>\n",
       "    </tr>\n",
       "  </thead>\n",
       "  <tbody>\n",
       "    <tr>\n",
       "      <th>0</th>\n",
       "      <td>A000000003</td>\n",
       "      <td>JetBrainsEUR</td>\n",
       "      <td>138</td>\n",
       "    </tr>\n",
       "    <tr>\n",
       "      <th>1</th>\n",
       "      <td>A000000004</td>\n",
       "      <td>JetBrainsAmericasUSD</td>\n",
       "      <td>139</td>\n",
       "    </tr>\n",
       "    <tr>\n",
       "      <th>2</th>\n",
       "      <td>A000000010</td>\n",
       "      <td>JetBrainsAmericasUSD</td>\n",
       "      <td>139</td>\n",
       "    </tr>\n",
       "    <tr>\n",
       "      <th>3</th>\n",
       "      <td>A000000017</td>\n",
       "      <td>JetBrainsAmericasUSD</td>\n",
       "      <td>138</td>\n",
       "    </tr>\n",
       "    <tr>\n",
       "      <th>4</th>\n",
       "      <td>A000000019</td>\n",
       "      <td>JetBrainsGBP</td>\n",
       "      <td>138</td>\n",
       "    </tr>\n",
       "    <tr>\n",
       "      <th>...</th>\n",
       "      <td>...</td>\n",
       "      <td>...</td>\n",
       "      <td>...</td>\n",
       "    </tr>\n",
       "    <tr>\n",
       "      <th>372649</th>\n",
       "      <td>Z000222243</td>\n",
       "      <td>JetBrainsAmericasUSD</td>\n",
       "      <td>140</td>\n",
       "    </tr>\n",
       "    <tr>\n",
       "      <th>372650</th>\n",
       "      <td>Z000222251</td>\n",
       "      <td>JetBrainsAmericasUSD</td>\n",
       "      <td>139</td>\n",
       "    </tr>\n",
       "    <tr>\n",
       "      <th>372651</th>\n",
       "      <td>Z000222256</td>\n",
       "      <td>JetBrainsEUR</td>\n",
       "      <td>139</td>\n",
       "    </tr>\n",
       "    <tr>\n",
       "      <th>372652</th>\n",
       "      <td>Z000222259</td>\n",
       "      <td>JetBrainsAmericasUSD</td>\n",
       "      <td>140</td>\n",
       "    </tr>\n",
       "    <tr>\n",
       "      <th>372653</th>\n",
       "      <td>Z000222260</td>\n",
       "      <td>JetBrainsEUR</td>\n",
       "      <td>142</td>\n",
       "    </tr>\n",
       "  </tbody>\n",
       "</table>\n",
       "<p>372654 rows × 3 columns</p>\n",
       "</div>"
      ],
      "text/plain": [
       "         ORDER_REF      MERCHANT_ACCOUNT  BATCH_NUMBER\n",
       "0       A000000003          JetBrainsEUR           138\n",
       "1       A000000004  JetBrainsAmericasUSD           139\n",
       "2       A000000010  JetBrainsAmericasUSD           139\n",
       "3       A000000017  JetBrainsAmericasUSD           138\n",
       "4       A000000019          JetBrainsGBP           138\n",
       "...            ...                   ...           ...\n",
       "372649  Z000222243  JetBrainsAmericasUSD           140\n",
       "372650  Z000222251  JetBrainsAmericasUSD           139\n",
       "372651  Z000222256          JetBrainsEUR           139\n",
       "372652  Z000222259  JetBrainsAmericasUSD           140\n",
       "372653  Z000222260          JetBrainsEUR           142\n",
       "\n",
       "[372654 rows x 3 columns]"
      ]
     },
     "execution_count": 6,
     "metadata": {},
     "output_type": "execute_result"
    }
   ],
   "source": [
    "GH_Bridge = GH[[\"ORDER_REF\", \"MERCHANT_ACCOUNT\", \"BATCH_NUMBER\"]].groupby(\"ORDER_REF\", as_index=False).first()\n",
    "GH_Bridge"
   ]
  },
  {
   "cell_type": "markdown",
   "id": "94ce94e8",
   "metadata": {},
   "source": [
    "### Transaction Lines Table enriched by Transactions Table"
   ]
  },
  {
   "cell_type": "code",
   "execution_count": 7,
   "id": "131fc695",
   "metadata": {},
   "outputs": [
    {
     "data": {
      "text/html": [
       "<div>\n",
       "<style scoped>\n",
       "    .dataframe tbody tr th:only-of-type {\n",
       "        vertical-align: middle;\n",
       "    }\n",
       "\n",
       "    .dataframe tbody tr th {\n",
       "        vertical-align: top;\n",
       "    }\n",
       "\n",
       "    .dataframe thead th {\n",
       "        text-align: right;\n",
       "    }\n",
       "</style>\n",
       "<table border=\"1\" class=\"dataframe\">\n",
       "  <thead>\n",
       "    <tr style=\"text-align: right;\">\n",
       "      <th></th>\n",
       "      <th>TRANSACTION_ID</th>\n",
       "      <th>TRANSACTION_LINE_ID</th>\n",
       "      <th>AMOUNT</th>\n",
       "      <th>AMOUNT_FOREIGN</th>\n",
       "      <th>SUBSIDIARY_ID</th>\n",
       "      <th>ACCOUNT_ID</th>\n",
       "      <th>COMPANY_ID</th>\n",
       "      <th>DATE_LAST_MODIFIED_x</th>\n",
       "      <th>TRANID</th>\n",
       "      <th>TRANSACTION_TYPE</th>\n",
       "      <th>TRANDATE</th>\n",
       "      <th>EXCHANGE_RATE</th>\n",
       "      <th>CURRENCY_ID</th>\n",
       "      <th>ORDER_REF</th>\n",
       "      <th>MERCHANT_ACCOUNT</th>\n",
       "      <th>BATCH_NUMBER</th>\n",
       "      <th>IS_NON_POSTING</th>\n",
       "      <th>DATE_LAST_MODIFIED_y</th>\n",
       "    </tr>\n",
       "  </thead>\n",
       "  <tbody>\n",
       "    <tr>\n",
       "      <th>0</th>\n",
       "      <td>1</td>\n",
       "      <td>0</td>\n",
       "      <td>17.80</td>\n",
       "      <td>20.0</td>\n",
       "      <td>1</td>\n",
       "      <td>124</td>\n",
       "      <td>3172</td>\n",
       "      <td>2019-04-19</td>\n",
       "      <td>INV00183242</td>\n",
       "      <td>Invoice</td>\n",
       "      <td>2019-03-30</td>\n",
       "      <td>0.890076</td>\n",
       "      <td>3</td>\n",
       "      <td>R000122702</td>\n",
       "      <td>None</td>\n",
       "      <td>NaN</td>\n",
       "      <td>No</td>\n",
       "      <td>2019-04-19</td>\n",
       "    </tr>\n",
       "    <tr>\n",
       "      <th>1</th>\n",
       "      <td>1</td>\n",
       "      <td>1</td>\n",
       "      <td>-17.80</td>\n",
       "      <td>-20.0</td>\n",
       "      <td>1</td>\n",
       "      <td>128</td>\n",
       "      <td>3172</td>\n",
       "      <td>2019-04-19</td>\n",
       "      <td>INV00183242</td>\n",
       "      <td>Invoice</td>\n",
       "      <td>2019-03-30</td>\n",
       "      <td>0.890076</td>\n",
       "      <td>3</td>\n",
       "      <td>R000122702</td>\n",
       "      <td>None</td>\n",
       "      <td>NaN</td>\n",
       "      <td>No</td>\n",
       "      <td>2019-04-19</td>\n",
       "    </tr>\n",
       "    <tr>\n",
       "      <th>2</th>\n",
       "      <td>2</td>\n",
       "      <td>0</td>\n",
       "      <td>237.80</td>\n",
       "      <td>295.0</td>\n",
       "      <td>1</td>\n",
       "      <td>124</td>\n",
       "      <td>11813</td>\n",
       "      <td>2018-02-27</td>\n",
       "      <td>INV00019330</td>\n",
       "      <td>Invoice</td>\n",
       "      <td>2018-02-18</td>\n",
       "      <td>0.806108</td>\n",
       "      <td>3</td>\n",
       "      <td>C000033810</td>\n",
       "      <td>None</td>\n",
       "      <td>NaN</td>\n",
       "      <td>No</td>\n",
       "      <td>2018-02-27</td>\n",
       "    </tr>\n",
       "    <tr>\n",
       "      <th>3</th>\n",
       "      <td>2</td>\n",
       "      <td>1</td>\n",
       "      <td>-237.80</td>\n",
       "      <td>-295.0</td>\n",
       "      <td>1</td>\n",
       "      <td>128</td>\n",
       "      <td>11813</td>\n",
       "      <td>2018-02-27</td>\n",
       "      <td>INV00019330</td>\n",
       "      <td>Invoice</td>\n",
       "      <td>2018-02-18</td>\n",
       "      <td>0.806108</td>\n",
       "      <td>3</td>\n",
       "      <td>C000033810</td>\n",
       "      <td>None</td>\n",
       "      <td>NaN</td>\n",
       "      <td>No</td>\n",
       "      <td>2018-02-27</td>\n",
       "    </tr>\n",
       "    <tr>\n",
       "      <th>4</th>\n",
       "      <td>3</td>\n",
       "      <td>0</td>\n",
       "      <td>33.30</td>\n",
       "      <td>40.0</td>\n",
       "      <td>1</td>\n",
       "      <td>124</td>\n",
       "      <td>4630</td>\n",
       "      <td>2018-01-15</td>\n",
       "      <td>INV00000402</td>\n",
       "      <td>Invoice</td>\n",
       "      <td>2018-01-02</td>\n",
       "      <td>0.832466</td>\n",
       "      <td>3</td>\n",
       "      <td>C000044258</td>\n",
       "      <td>None</td>\n",
       "      <td>NaN</td>\n",
       "      <td>No</td>\n",
       "      <td>2018-01-15</td>\n",
       "    </tr>\n",
       "    <tr>\n",
       "      <th>...</th>\n",
       "      <td>...</td>\n",
       "      <td>...</td>\n",
       "      <td>...</td>\n",
       "      <td>...</td>\n",
       "      <td>...</td>\n",
       "      <td>...</td>\n",
       "      <td>...</td>\n",
       "      <td>...</td>\n",
       "      <td>...</td>\n",
       "      <td>...</td>\n",
       "      <td>...</td>\n",
       "      <td>...</td>\n",
       "      <td>...</td>\n",
       "      <td>...</td>\n",
       "      <td>...</td>\n",
       "      <td>...</td>\n",
       "      <td>...</td>\n",
       "      <td>...</td>\n",
       "    </tr>\n",
       "    <tr>\n",
       "      <th>2224813</th>\n",
       "      <td>1484537</td>\n",
       "      <td>1</td>\n",
       "      <td>-1.63</td>\n",
       "      <td>-2.0</td>\n",
       "      <td>1</td>\n",
       "      <td>2274</td>\n",
       "      <td>5983</td>\n",
       "      <td>2018-04-03</td>\n",
       "      <td>CD00000076</td>\n",
       "      <td>Customer Deposit</td>\n",
       "      <td>2018-03-20</td>\n",
       "      <td>0.813240</td>\n",
       "      <td>3</td>\n",
       "      <td>C000054418</td>\n",
       "      <td>JetBrainsEUR</td>\n",
       "      <td>138.0</td>\n",
       "      <td>No</td>\n",
       "      <td>2018-04-03</td>\n",
       "    </tr>\n",
       "    <tr>\n",
       "      <th>2224814</th>\n",
       "      <td>1484538</td>\n",
       "      <td>0</td>\n",
       "      <td>5.27</td>\n",
       "      <td>6.0</td>\n",
       "      <td>1</td>\n",
       "      <td>124</td>\n",
       "      <td>5903</td>\n",
       "      <td>2018-09-01</td>\n",
       "      <td>CD00000206</td>\n",
       "      <td>Customer Deposit</td>\n",
       "      <td>2019-01-01</td>\n",
       "      <td>0.877886</td>\n",
       "      <td>3</td>\n",
       "      <td>E000037665</td>\n",
       "      <td>JetBrainsEUR</td>\n",
       "      <td>140.0</td>\n",
       "      <td>No</td>\n",
       "      <td>2018-09-01</td>\n",
       "    </tr>\n",
       "    <tr>\n",
       "      <th>2224815</th>\n",
       "      <td>1484538</td>\n",
       "      <td>1</td>\n",
       "      <td>-5.27</td>\n",
       "      <td>-6.0</td>\n",
       "      <td>1</td>\n",
       "      <td>2274</td>\n",
       "      <td>5903</td>\n",
       "      <td>2018-09-01</td>\n",
       "      <td>CD00000206</td>\n",
       "      <td>Customer Deposit</td>\n",
       "      <td>2019-01-01</td>\n",
       "      <td>0.877886</td>\n",
       "      <td>3</td>\n",
       "      <td>E000037665</td>\n",
       "      <td>JetBrainsEUR</td>\n",
       "      <td>140.0</td>\n",
       "      <td>No</td>\n",
       "      <td>2018-09-01</td>\n",
       "    </tr>\n",
       "    <tr>\n",
       "      <th>2224816</th>\n",
       "      <td>1484539</td>\n",
       "      <td>0</td>\n",
       "      <td>28.00</td>\n",
       "      <td>28.0</td>\n",
       "      <td>2</td>\n",
       "      <td>124</td>\n",
       "      <td>5826</td>\n",
       "      <td>2019-01-29</td>\n",
       "      <td>CD00000210</td>\n",
       "      <td>Customer Deposit</td>\n",
       "      <td>2019-01-06</td>\n",
       "      <td>1.000000</td>\n",
       "      <td>1</td>\n",
       "      <td>R000128350</td>\n",
       "      <td>JetBrainsAmericasUSD</td>\n",
       "      <td>NaN</td>\n",
       "      <td>No</td>\n",
       "      <td>2019-01-29</td>\n",
       "    </tr>\n",
       "    <tr>\n",
       "      <th>2224817</th>\n",
       "      <td>1484539</td>\n",
       "      <td>1</td>\n",
       "      <td>-28.00</td>\n",
       "      <td>-28.0</td>\n",
       "      <td>2</td>\n",
       "      <td>2274</td>\n",
       "      <td>5826</td>\n",
       "      <td>2019-01-29</td>\n",
       "      <td>CD00000210</td>\n",
       "      <td>Customer Deposit</td>\n",
       "      <td>2019-01-06</td>\n",
       "      <td>1.000000</td>\n",
       "      <td>1</td>\n",
       "      <td>R000128350</td>\n",
       "      <td>JetBrainsAmericasUSD</td>\n",
       "      <td>NaN</td>\n",
       "      <td>No</td>\n",
       "      <td>2019-01-29</td>\n",
       "    </tr>\n",
       "  </tbody>\n",
       "</table>\n",
       "<p>2224818 rows × 18 columns</p>\n",
       "</div>"
      ],
      "text/plain": [
       "         TRANSACTION_ID  TRANSACTION_LINE_ID  AMOUNT  AMOUNT_FOREIGN  \\\n",
       "0                     1                    0   17.80            20.0   \n",
       "1                     1                    1  -17.80           -20.0   \n",
       "2                     2                    0  237.80           295.0   \n",
       "3                     2                    1 -237.80          -295.0   \n",
       "4                     3                    0   33.30            40.0   \n",
       "...                 ...                  ...     ...             ...   \n",
       "2224813         1484537                    1   -1.63            -2.0   \n",
       "2224814         1484538                    0    5.27             6.0   \n",
       "2224815         1484538                    1   -5.27            -6.0   \n",
       "2224816         1484539                    0   28.00            28.0   \n",
       "2224817         1484539                    1  -28.00           -28.0   \n",
       "\n",
       "         SUBSIDIARY_ID  ACCOUNT_ID  COMPANY_ID DATE_LAST_MODIFIED_x  \\\n",
       "0                    1         124        3172           2019-04-19   \n",
       "1                    1         128        3172           2019-04-19   \n",
       "2                    1         124       11813           2018-02-27   \n",
       "3                    1         128       11813           2018-02-27   \n",
       "4                    1         124        4630           2018-01-15   \n",
       "...                ...         ...         ...                  ...   \n",
       "2224813              1        2274        5983           2018-04-03   \n",
       "2224814              1         124        5903           2018-09-01   \n",
       "2224815              1        2274        5903           2018-09-01   \n",
       "2224816              2         124        5826           2019-01-29   \n",
       "2224817              2        2274        5826           2019-01-29   \n",
       "\n",
       "              TRANID  TRANSACTION_TYPE    TRANDATE  EXCHANGE_RATE  \\\n",
       "0        INV00183242           Invoice  2019-03-30       0.890076   \n",
       "1        INV00183242           Invoice  2019-03-30       0.890076   \n",
       "2        INV00019330           Invoice  2018-02-18       0.806108   \n",
       "3        INV00019330           Invoice  2018-02-18       0.806108   \n",
       "4        INV00000402           Invoice  2018-01-02       0.832466   \n",
       "...              ...               ...         ...            ...   \n",
       "2224813   CD00000076  Customer Deposit  2018-03-20       0.813240   \n",
       "2224814   CD00000206  Customer Deposit  2019-01-01       0.877886   \n",
       "2224815   CD00000206  Customer Deposit  2019-01-01       0.877886   \n",
       "2224816   CD00000210  Customer Deposit  2019-01-06       1.000000   \n",
       "2224817   CD00000210  Customer Deposit  2019-01-06       1.000000   \n",
       "\n",
       "         CURRENCY_ID   ORDER_REF      MERCHANT_ACCOUNT  BATCH_NUMBER  \\\n",
       "0                  3  R000122702                  None           NaN   \n",
       "1                  3  R000122702                  None           NaN   \n",
       "2                  3  C000033810                  None           NaN   \n",
       "3                  3  C000033810                  None           NaN   \n",
       "4                  3  C000044258                  None           NaN   \n",
       "...              ...         ...                   ...           ...   \n",
       "2224813            3  C000054418          JetBrainsEUR         138.0   \n",
       "2224814            3  E000037665          JetBrainsEUR         140.0   \n",
       "2224815            3  E000037665          JetBrainsEUR         140.0   \n",
       "2224816            1  R000128350  JetBrainsAmericasUSD           NaN   \n",
       "2224817            1  R000128350  JetBrainsAmericasUSD           NaN   \n",
       "\n",
       "        IS_NON_POSTING DATE_LAST_MODIFIED_y  \n",
       "0                   No           2019-04-19  \n",
       "1                   No           2019-04-19  \n",
       "2                   No           2018-02-27  \n",
       "3                   No           2018-02-27  \n",
       "4                   No           2018-01-15  \n",
       "...                ...                  ...  \n",
       "2224813             No           2018-04-03  \n",
       "2224814             No           2018-09-01  \n",
       "2224815             No           2018-09-01  \n",
       "2224816             No           2019-01-29  \n",
       "2224817             No           2019-01-29  \n",
       "\n",
       "[2224818 rows x 18 columns]"
      ]
     },
     "execution_count": 7,
     "metadata": {},
     "output_type": "execute_result"
    }
   ],
   "source": [
    "TL_Merged = tl.merge(\n",
    "                    transactions,\n",
    "                    on='TRANSACTION_ID',\n",
    "                    how='left'\n",
    "                )\n",
    "\n",
    "TL_Merged"
   ]
  },
  {
   "cell_type": "code",
   "execution_count": 10,
   "id": "2793f734",
   "metadata": {},
   "outputs": [],
   "source": [
    "TL_Merged.rename(columns = {\"ORDER_REF\":\"S_Order_Ref\", \"MERCHANT_ACCOUNT\":\"S_Merchant_Account\", \"BATCH_NUMBER\":\"S_Batch_Number\"}, inplace=True)\n",
    "\n",
    "\n"
   ]
  },
  {
   "cell_type": "code",
   "execution_count": 17,
   "id": "7a2c1dc4",
   "metadata": {},
   "outputs": [],
   "source": [
    "S_Table = TL_Merged.groupby([\"S_Order_Ref\", \"S_Merchant_Account\", \"S_Batch_Number\", \"TRANDATE\"])[\"AMOUNT_FOREIGN\"].sum()"
   ]
  },
  {
   "cell_type": "code",
   "execution_count": 32,
   "id": "554163a3",
   "metadata": {},
   "outputs": [
    {
     "ename": "KeyError",
     "evalue": "'S_Order_Ref'",
     "output_type": "error",
     "traceback": [
      "\u001b[1;31m---------------------------------------------------------------------------\u001b[0m",
      "\u001b[1;31mKeyError\u001b[0m                                  Traceback (most recent call last)",
      "File \u001b[1;32m~\\AppData\\Local\\Programs\\Python\\Python311\\Lib\\site-packages\\pandas\\core\\indexes\\base.py:3652\u001b[0m, in \u001b[0;36mIndex.get_loc\u001b[1;34m(self, key)\u001b[0m\n\u001b[0;32m   3651\u001b[0m \u001b[38;5;28;01mtry\u001b[39;00m:\n\u001b[1;32m-> 3652\u001b[0m     \u001b[38;5;28;01mreturn\u001b[39;00m \u001b[38;5;28;43mself\u001b[39;49m\u001b[38;5;241;43m.\u001b[39;49m\u001b[43m_engine\u001b[49m\u001b[38;5;241;43m.\u001b[39;49m\u001b[43mget_loc\u001b[49m\u001b[43m(\u001b[49m\u001b[43mcasted_key\u001b[49m\u001b[43m)\u001b[49m\n\u001b[0;32m   3653\u001b[0m \u001b[38;5;28;01mexcept\u001b[39;00m \u001b[38;5;167;01mKeyError\u001b[39;00m \u001b[38;5;28;01mas\u001b[39;00m err:\n",
      "File \u001b[1;32m~\\AppData\\Local\\Programs\\Python\\Python311\\Lib\\site-packages\\pandas\\_libs\\index.pyx:147\u001b[0m, in \u001b[0;36mpandas._libs.index.IndexEngine.get_loc\u001b[1;34m()\u001b[0m\n",
      "File \u001b[1;32m~\\AppData\\Local\\Programs\\Python\\Python311\\Lib\\site-packages\\pandas\\_libs\\index.pyx:176\u001b[0m, in \u001b[0;36mpandas._libs.index.IndexEngine.get_loc\u001b[1;34m()\u001b[0m\n",
      "File \u001b[1;32mpandas\\_libs\\hashtable_class_helper.pxi:7080\u001b[0m, in \u001b[0;36mpandas._libs.hashtable.PyObjectHashTable.get_item\u001b[1;34m()\u001b[0m\n",
      "File \u001b[1;32mpandas\\_libs\\hashtable_class_helper.pxi:7088\u001b[0m, in \u001b[0;36mpandas._libs.hashtable.PyObjectHashTable.get_item\u001b[1;34m()\u001b[0m\n",
      "\u001b[1;31mKeyError\u001b[0m: 'S_Order_Ref'",
      "\nThe above exception was the direct cause of the following exception:\n",
      "\u001b[1;31mKeyError\u001b[0m                                  Traceback (most recent call last)",
      "Cell \u001b[1;32mIn[32], line 1\u001b[0m\n\u001b[1;32m----> 1\u001b[0m S_Table\u001b[38;5;241m.\u001b[39mloc[\u001b[43mS_Table\u001b[49m\u001b[43m[\u001b[49m\u001b[38;5;124;43m\"\u001b[39;49m\u001b[38;5;124;43mS_Order_Ref\u001b[39;49m\u001b[38;5;124;43m\"\u001b[39;49m\u001b[43m]\u001b[49m \u001b[38;5;241m!=\u001b[39m\u001b[38;5;241m0\u001b[39m, \u001b[38;5;124m\"\u001b[39m\u001b[38;5;124mS_Order_Ref\u001b[39m\u001b[38;5;124m\"\u001b[39m, \u001b[38;5;124m\"\u001b[39m\u001b[38;5;124mS_Merchant_Account\u001b[39m\u001b[38;5;124m\"\u001b[39m, \u001b[38;5;124m\"\u001b[39m\u001b[38;5;124mS_Batch_Number\u001b[39m\u001b[38;5;124m\"\u001b[39m, \u001b[38;5;124m\"\u001b[39m\u001b[38;5;124mTRANDATE\u001b[39m\u001b[38;5;124m\"\u001b[39m]\n",
      "File \u001b[1;32m~\\AppData\\Local\\Programs\\Python\\Python311\\Lib\\site-packages\\pandas\\core\\series.py:1007\u001b[0m, in \u001b[0;36mSeries.__getitem__\u001b[1;34m(self, key)\u001b[0m\n\u001b[0;32m   1004\u001b[0m     \u001b[38;5;28;01mreturn\u001b[39;00m \u001b[38;5;28mself\u001b[39m\u001b[38;5;241m.\u001b[39m_values[key]\n\u001b[0;32m   1006\u001b[0m \u001b[38;5;28;01melif\u001b[39;00m key_is_scalar:\n\u001b[1;32m-> 1007\u001b[0m     \u001b[38;5;28;01mreturn\u001b[39;00m \u001b[38;5;28;43mself\u001b[39;49m\u001b[38;5;241;43m.\u001b[39;49m\u001b[43m_get_value\u001b[49m\u001b[43m(\u001b[49m\u001b[43mkey\u001b[49m\u001b[43m)\u001b[49m\n\u001b[0;32m   1009\u001b[0m \u001b[38;5;28;01mif\u001b[39;00m is_hashable(key):\n\u001b[0;32m   1010\u001b[0m     \u001b[38;5;66;03m# Otherwise index.get_value will raise InvalidIndexError\u001b[39;00m\n\u001b[0;32m   1011\u001b[0m     \u001b[38;5;28;01mtry\u001b[39;00m:\n\u001b[0;32m   1012\u001b[0m         \u001b[38;5;66;03m# For labels that don't resolve as scalars like tuples and frozensets\u001b[39;00m\n",
      "File \u001b[1;32m~\\AppData\\Local\\Programs\\Python\\Python311\\Lib\\site-packages\\pandas\\core\\series.py:1116\u001b[0m, in \u001b[0;36mSeries._get_value\u001b[1;34m(self, label, takeable)\u001b[0m\n\u001b[0;32m   1113\u001b[0m     \u001b[38;5;28;01mreturn\u001b[39;00m \u001b[38;5;28mself\u001b[39m\u001b[38;5;241m.\u001b[39m_values[label]\n\u001b[0;32m   1115\u001b[0m \u001b[38;5;66;03m# Similar to Index.get_value, but we do not fall back to positional\u001b[39;00m\n\u001b[1;32m-> 1116\u001b[0m loc \u001b[38;5;241m=\u001b[39m \u001b[38;5;28;43mself\u001b[39;49m\u001b[38;5;241;43m.\u001b[39;49m\u001b[43mindex\u001b[49m\u001b[38;5;241;43m.\u001b[39;49m\u001b[43mget_loc\u001b[49m\u001b[43m(\u001b[49m\u001b[43mlabel\u001b[49m\u001b[43m)\u001b[49m\n\u001b[0;32m   1118\u001b[0m \u001b[38;5;28;01mif\u001b[39;00m is_integer(loc):\n\u001b[0;32m   1119\u001b[0m     \u001b[38;5;28;01mreturn\u001b[39;00m \u001b[38;5;28mself\u001b[39m\u001b[38;5;241m.\u001b[39m_values[loc]\n",
      "File \u001b[1;32m~\\AppData\\Local\\Programs\\Python\\Python311\\Lib\\site-packages\\pandas\\core\\indexes\\multi.py:2812\u001b[0m, in \u001b[0;36mMultiIndex.get_loc\u001b[1;34m(self, key)\u001b[0m\n\u001b[0;32m   2809\u001b[0m     \u001b[38;5;28;01mreturn\u001b[39;00m mask\n\u001b[0;32m   2811\u001b[0m \u001b[38;5;28;01mif\u001b[39;00m \u001b[38;5;129;01mnot\u001b[39;00m \u001b[38;5;28misinstance\u001b[39m(key, \u001b[38;5;28mtuple\u001b[39m):\n\u001b[1;32m-> 2812\u001b[0m     loc \u001b[38;5;241m=\u001b[39m \u001b[38;5;28;43mself\u001b[39;49m\u001b[38;5;241;43m.\u001b[39;49m\u001b[43m_get_level_indexer\u001b[49m\u001b[43m(\u001b[49m\u001b[43mkey\u001b[49m\u001b[43m,\u001b[49m\u001b[43m \u001b[49m\u001b[43mlevel\u001b[49m\u001b[38;5;241;43m=\u001b[39;49m\u001b[38;5;241;43m0\u001b[39;49m\u001b[43m)\u001b[49m\n\u001b[0;32m   2813\u001b[0m     \u001b[38;5;28;01mreturn\u001b[39;00m _maybe_to_slice(loc)\n\u001b[0;32m   2815\u001b[0m keylen \u001b[38;5;241m=\u001b[39m \u001b[38;5;28mlen\u001b[39m(key)\n",
      "File \u001b[1;32m~\\AppData\\Local\\Programs\\Python\\Python311\\Lib\\site-packages\\pandas\\core\\indexes\\multi.py:3160\u001b[0m, in \u001b[0;36mMultiIndex._get_level_indexer\u001b[1;34m(self, key, level, indexer)\u001b[0m\n\u001b[0;32m   3157\u001b[0m         \u001b[38;5;28;01mreturn\u001b[39;00m \u001b[38;5;28mslice\u001b[39m(i, j, step)\n\u001b[0;32m   3159\u001b[0m \u001b[38;5;28;01melse\u001b[39;00m:\n\u001b[1;32m-> 3160\u001b[0m     idx \u001b[38;5;241m=\u001b[39m \u001b[38;5;28;43mself\u001b[39;49m\u001b[38;5;241;43m.\u001b[39;49m\u001b[43m_get_loc_single_level_index\u001b[49m\u001b[43m(\u001b[49m\u001b[43mlevel_index\u001b[49m\u001b[43m,\u001b[49m\u001b[43m \u001b[49m\u001b[43mkey\u001b[49m\u001b[43m)\u001b[49m\n\u001b[0;32m   3162\u001b[0m     \u001b[38;5;28;01mif\u001b[39;00m level \u001b[38;5;241m>\u001b[39m \u001b[38;5;241m0\u001b[39m \u001b[38;5;129;01mor\u001b[39;00m \u001b[38;5;28mself\u001b[39m\u001b[38;5;241m.\u001b[39m_lexsort_depth \u001b[38;5;241m==\u001b[39m \u001b[38;5;241m0\u001b[39m:\n\u001b[0;32m   3163\u001b[0m         \u001b[38;5;66;03m# Desired level is not sorted\u001b[39;00m\n\u001b[0;32m   3164\u001b[0m         \u001b[38;5;28;01mif\u001b[39;00m \u001b[38;5;28misinstance\u001b[39m(idx, \u001b[38;5;28mslice\u001b[39m):\n\u001b[0;32m   3165\u001b[0m             \u001b[38;5;66;03m# test_get_loc_partial_timestamp_multiindex\u001b[39;00m\n",
      "File \u001b[1;32m~\\AppData\\Local\\Programs\\Python\\Python311\\Lib\\site-packages\\pandas\\core\\indexes\\multi.py:2752\u001b[0m, in \u001b[0;36mMultiIndex._get_loc_single_level_index\u001b[1;34m(self, level_index, key)\u001b[0m\n\u001b[0;32m   2750\u001b[0m     \u001b[38;5;28;01mreturn\u001b[39;00m \u001b[38;5;241m-\u001b[39m\u001b[38;5;241m1\u001b[39m\n\u001b[0;32m   2751\u001b[0m \u001b[38;5;28;01melse\u001b[39;00m:\n\u001b[1;32m-> 2752\u001b[0m     \u001b[38;5;28;01mreturn\u001b[39;00m \u001b[43mlevel_index\u001b[49m\u001b[38;5;241;43m.\u001b[39;49m\u001b[43mget_loc\u001b[49m\u001b[43m(\u001b[49m\u001b[43mkey\u001b[49m\u001b[43m)\u001b[49m\n",
      "File \u001b[1;32m~\\AppData\\Local\\Programs\\Python\\Python311\\Lib\\site-packages\\pandas\\core\\indexes\\base.py:3654\u001b[0m, in \u001b[0;36mIndex.get_loc\u001b[1;34m(self, key)\u001b[0m\n\u001b[0;32m   3652\u001b[0m     \u001b[38;5;28;01mreturn\u001b[39;00m \u001b[38;5;28mself\u001b[39m\u001b[38;5;241m.\u001b[39m_engine\u001b[38;5;241m.\u001b[39mget_loc(casted_key)\n\u001b[0;32m   3653\u001b[0m \u001b[38;5;28;01mexcept\u001b[39;00m \u001b[38;5;167;01mKeyError\u001b[39;00m \u001b[38;5;28;01mas\u001b[39;00m err:\n\u001b[1;32m-> 3654\u001b[0m     \u001b[38;5;28;01mraise\u001b[39;00m \u001b[38;5;167;01mKeyError\u001b[39;00m(key) \u001b[38;5;28;01mfrom\u001b[39;00m \u001b[38;5;21;01merr\u001b[39;00m\n\u001b[0;32m   3655\u001b[0m \u001b[38;5;28;01mexcept\u001b[39;00m \u001b[38;5;167;01mTypeError\u001b[39;00m:\n\u001b[0;32m   3656\u001b[0m     \u001b[38;5;66;03m# If we have a listlike key, _check_indexing_error will raise\u001b[39;00m\n\u001b[0;32m   3657\u001b[0m     \u001b[38;5;66;03m#  InvalidIndexError. Otherwise we fall through and re-raise\u001b[39;00m\n\u001b[0;32m   3658\u001b[0m     \u001b[38;5;66;03m#  the TypeError.\u001b[39;00m\n\u001b[0;32m   3659\u001b[0m     \u001b[38;5;28mself\u001b[39m\u001b[38;5;241m.\u001b[39m_check_indexing_error(key)\n",
      "\u001b[1;31mKeyError\u001b[0m: 'S_Order_Ref'"
     ]
    }
   ],
   "source": [
    "S_Table.loc[S_Table[\"S_Order_Ref\"] !=0, \"S_Order_Ref\", \"S_Merchant_Account\", \"S_Batch_Number\", \"TRANDATE\"]"
   ]
  },
  {
   "cell_type": "code",
   "execution_count": null,
   "id": "14ff800d",
   "metadata": {},
   "outputs": [],
   "source": []
  }
 ],
 "metadata": {
  "kernelspec": {
   "display_name": "Python 3 (ipykernel)",
   "language": "python",
   "name": "python3"
  },
  "language_info": {
   "codemirror_mode": {
    "name": "ipython",
    "version": 3
   },
   "file_extension": ".py",
   "mimetype": "text/x-python",
   "name": "python",
   "nbconvert_exporter": "python",
   "pygments_lexer": "ipython3",
   "version": "3.11.4"
  }
 },
 "nbformat": 4,
 "nbformat_minor": 5
}
